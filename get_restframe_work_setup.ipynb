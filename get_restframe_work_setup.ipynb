{
 "cells": [
  {
   "cell_type": "code",
   "execution_count": 3,
   "id": "189eca2f-9042-402e-9637-f636f2201fde",
   "metadata": {},
   "outputs": [],
   "source": [
    "import os\n",
    "import django\n",
    "os.environ.setdefault('DJANGO_SETTINGS_MODULE', 'rest.settings')\n",
    "os.environ[\"DJANGO_ALLOW_ASYNC_UNSAFE\"] = \"true\"\n",
    "django.setup()\n",
    "    \n",
    "# from users.models import User\n",
    "# User.objects.all()"
   ]
  },
  {
   "cell_type": "code",
   "execution_count": 3,
   "id": "9dad63f0-8792-42ac-8697-189b2967c5fc",
   "metadata": {},
   "outputs": [],
   "source": [
    "from django.contrib.auth import settings "
   ]
  },
  {
   "cell_type": "code",
   "execution_count": 7,
   "id": "fed5ceef-0170-4b38-bf3e-4a2b55d210f2",
   "metadata": {},
   "outputs": [
    {
     "data": {
      "text/plain": [
       "['django.contrib.admin',\n",
       " 'django.contrib.auth',\n",
       " 'django.contrib.contenttypes',\n",
       " 'django.contrib.sessions',\n",
       " 'django.contrib.messages',\n",
       " 'django.contrib.staticfiles',\n",
       " 'django_extensions',\n",
       " 'rest_framework']"
      ]
     },
     "execution_count": 7,
     "metadata": {},
     "output_type": "execute_result"
    }
   ],
   "source": [
    "settings.INSTALLED_APPS += [ 'rest_framework', ] \n",
    "settings.INSTALLED_APPS"
   ]
  },
  {
   "cell_type": "code",
   "execution_count": 8,
   "id": "28426582-c00a-48c7-a308-0b72dedd4b62",
   "metadata": {},
   "outputs": [],
   "source": [
    "## add \n",
    "settings.REST_FRAMEWORK = {\n",
    "    # Use Django's standard `django.contrib.auth` permissions,\n",
    "    # or allow read-only access for unauthenticated users.\n",
    "    'DEFAULT_PERMISSION_CLASSES': [\n",
    "        'rest_framework.permissions.DjangoModelPermissionsOrAnonReadOnly'\n",
    "    ]\n",
    "}\n"
   ]
  },
  {
   "cell_type": "code",
   "execution_count": 9,
   "id": "deba8d05-92f2-4967-86b7-3e3ceb271579",
   "metadata": {},
   "outputs": [
    {
     "data": {
      "text/plain": [
       "{'DEFAULT_PERMISSION_CLASSES': ['rest_framework.permissions.DjangoModelPermissionsOrAnonReadOnly']}"
      ]
     },
     "execution_count": 9,
     "metadata": {},
     "output_type": "execute_result"
    }
   ],
   "source": [
    "settings.REST_FRAMEWORK"
   ]
  },
  {
   "cell_type": "code",
   "execution_count": 6,
   "id": "c2f8a4e3-e23f-480f-a759-379aac87d1e3",
   "metadata": {},
   "outputs": [],
   "source": [
    "from dj_learnings.urls import urlpatterns, include, path"
   ]
  },
  {
   "cell_type": "code",
   "execution_count": 7,
   "id": "cb8bee3f-2225-4101-8882-029b148fa80d",
   "metadata": {},
   "outputs": [],
   "source": [
    "urlpatterns += [path('api-auth/', include('rest_framework.urls', namespace='rest_framework'))]"
   ]
  },
  {
   "cell_type": "code",
   "execution_count": 8,
   "id": "3d6a9741-3bb1-4eb7-a464-1432a1c9d8b3",
   "metadata": {},
   "outputs": [
    {
     "data": {
      "text/plain": [
       "[<URLResolver <URLPattern list> (admin:admin) 'admin/'>,\n",
       " <URLResolver <module 'rest_framework.urls' from 'C:\\\\Users\\\\DATA-ACES8\\\\.conda\\\\envs\\\\django\\\\lib\\\\site-packages\\\\rest_framework\\\\urls.py'> (rest_framework:rest_framework) 'api-auth/'>]"
      ]
     },
     "execution_count": 8,
     "metadata": {},
     "output_type": "execute_result"
    }
   ],
   "source": [
    "urlpatterns"
   ]
  },
  {
   "cell_type": "code",
   "execution_count": null,
   "id": "00d51db3-3399-4f6d-a2d2-1782445baaca",
   "metadata": {},
   "outputs": [],
   "source": []
  }
 ],
 "metadata": {
  "kernelspec": {
   "display_name": "Python 3",
   "language": "python",
   "name": "python3"
  },
  "language_info": {
   "codemirror_mode": {
    "name": "ipython",
    "version": 3
   },
   "file_extension": ".py",
   "mimetype": "text/x-python",
   "name": "python",
   "nbconvert_exporter": "python",
   "pygments_lexer": "ipython3",
   "version": "3.6.13"
  }
 },
 "nbformat": 4,
 "nbformat_minor": 5
}
