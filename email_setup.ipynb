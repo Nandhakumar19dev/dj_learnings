{
 "cells": [
  {
   "cell_type": "code",
   "execution_count": 1,
   "id": "189eca2f-9042-402e-9637-f636f2201fde",
   "metadata": {},
   "outputs": [
    {
     "name": "stdout",
     "output_type": "stream",
     "text": [
      "you should set outlook password in below settings var\n"
     ]
    }
   ],
   "source": [
    "import os\n",
    "import django\n",
    "os.environ.setdefault('DJANGO_SETTINGS_MODULE', 'rest.settings')\n",
    "os.environ[\"DJANGO_ALLOW_ASYNC_UNSAFE\"] = \"true\"\n",
    "django.setup()\n",
    "    \n",
    "# from users.models import User\n",
    "# User.objects.all()"
   ]
  },
  {
   "cell_type": "markdown",
   "id": "fb568f3a-ee3e-4376-97fc-55e9b73da6be",
   "metadata": {},
   "source": [
    "### add below specified vars in settings.py file "
   ]
  },
  {
   "cell_type": "code",
   "execution_count": 2,
   "id": "ce56c87b-5a98-4aed-8be7-de69afe03963",
   "metadata": {},
   "outputs": [
    {
     "name": "stdout",
     "output_type": "stream",
     "text": [
      "you should set outlook password in below settings var\n"
     ]
    }
   ],
   "source": [
    "# add settings.py\n",
    "EMAIL_BACKEND = 'django.core.mail.backends.smtp.EmailBackend'\n",
    "EMAIL_USE_TLS = True\n",
    "EMAIL_HOST = 'smtp-mail.outlook.com'\n",
    "EMAIL_HOST_USER = 'nandhakumar_maint@hotmail.com'\n",
    "print(\"you should set outlook password in below settings var\")\n",
    "EMAIL_HOST_PASSWORD = 'outlook-password'\n",
    "EMAIL_PORT = 25"
   ]
  },
  {
   "cell_type": "code",
   "execution_count": null,
   "id": "c9ae3253-4930-48c0-83d5-114f437da5be",
   "metadata": {},
   "outputs": [],
   "source": []
  }
 ],
 "metadata": {
  "kernelspec": {
   "display_name": "Python 3",
   "language": "python",
   "name": "python3"
  },
  "language_info": {
   "codemirror_mode": {
    "name": "ipython",
    "version": 3
   },
   "file_extension": ".py",
   "mimetype": "text/x-python",
   "name": "python",
   "nbconvert_exporter": "python",
   "pygments_lexer": "ipython3",
   "version": "3.6.13"
  }
 },
 "nbformat": 4,
 "nbformat_minor": 5
}
